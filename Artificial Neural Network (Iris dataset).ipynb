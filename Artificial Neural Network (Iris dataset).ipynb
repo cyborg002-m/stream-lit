{
 "cells": [
  {
   "cell_type": "markdown",
   "id": "8048056f-1a8f-4355-aaad-0fea7dc0f1ab",
   "metadata": {},
   "source": [
    "Build and train a neural network to classify instances from a dataset using Keras, a high-level neural networks API.\n",
    "\n",
    "Iris Dataset\n",
    "\n",
    "Description: This dataset consists of four features: sepal length, sepal width, petal length, and petal width. It is used for the classification of three Iris flower species.\n",
    "\n"
   ]
  },
  {
   "cell_type": "code",
   "execution_count": 1,
   "id": "d46dbded-d7b3-4959-91a3-ad08e5330d86",
   "metadata": {},
   "outputs": [],
   "source": [
    "#### Step 1: Import Libraries\n",
    "import streamlit as st\n",
    "import pandas as pd\n",
    "import numpy as np\n",
    "from sklearn.datasets import load_iris\n",
    "from sklearn.ensemble import RandomForestClassifier\n"
   ]
  },
  {
   "cell_type": "code",
   "execution_count": 3,
   "id": "243c7ddf-4636-4e44-9057-622cc1db5071",
   "metadata": {},
   "outputs": [],
   "source": [
    "### Step 2: Load the Data\n",
    "# We will load the famous Iris dataset using `sklearn` and display it in our app.\n",
    "\n",
    "\n",
    "# Load the Iris dataset\n",
    "iris = load_iris()\n",
    "df = pd.DataFrame(iris.data, columns=iris.feature_names)"
   ]
  },
  {
   "cell_type": "code",
   "execution_count": 5,
   "id": "5cea52bd-65df-4384-aa60-38be265d1744",
   "metadata": {},
   "outputs": [],
   "source": [
    "### Step 2: Load the Data\n",
    "# We will load the famous Iris dataset using `sklearn` and display it in our app.\n",
    "\n",
    "\n",
    "# Load the Iris dataset\n",
    "iris = load_iris()\n",
    "df = pd.DataFrame(iris.data, columns=iris.feature_names)"
   ]
  },
  {
   "cell_type": "code",
   "execution_count": 7,
   "id": "d36edca3-4a0e-4b59-9cc6-8f6c378648cc",
   "metadata": {},
   "outputs": [],
   "source": [
    "# Add a column for the target variable (species)\n",
    "df['species'] = iris.target\n",
    "\n",
    "# Map the target integers to the actual class names\n",
    "df['species_name'] = pd.Categorical.from_codes(iris.target, iris.target_names)\n"
   ]
  },
  {
   "cell_type": "code",
   "execution_count": 13,
   "id": "f20db26d-3a58-4304-aa89-9d7065898ef1",
   "metadata": {},
   "outputs": [],
   "source": [
    "# Add a title and description to the app\n",
    "st.title(\"Iris Flower Classification\")\n",
    "st.write(\"\"\"\n",
    "This app uses **Random Forest Classifier** to predict the type of Iris flower based on input features.\n",
    "\"\"\")\n",
    "\n",
    "# Display the dataset\n",
    "st.write(\"### Iris Dataset\", df)"
   ]
  },
  {
   "cell_type": "code",
   "execution_count": 11,
   "id": "95904974-71c3-436d-971d-b4198499ccbb",
   "metadata": {},
   "outputs": [],
   "source": [
    "import warnings\n",
    "warnings.filterwarnings(\"ignore\")"
   ]
  },
  {
   "cell_type": "code",
   "execution_count": 15,
   "id": "dedb61d1-1dd5-4134-ba78-f2e0118298f7",
   "metadata": {},
   "outputs": [],
   "source": [
    "#### Step 3: Create User Inputs (Widgets)\n",
    "\n",
    "# Use Streamlit's widgets to allow users to input values for the model features.\n",
    "\n",
    "\n",
    "# Create sliders for user input\n",
    "st.sidebar.header('User Input Parameters')\n",
    "\n",
    "def user_input_features():\n",
    "\n",
    "\n",
    "    # Slider for Sepal Length\n",
    "    # Set the label, minimum value, maximum value, and default value (mean) for the slider\n",
    "    sepal_length = st.sidebar.slider(\n",
    "        'Sepal length',  # Label displayed for the slider\n",
    "        float(df['sepal length (cm)'].min()),  # Minimum value from the dataset\n",
    "        float(df['sepal length (cm)'].max()),  # Maximum value from the dataset\n",
    "        float(df['sepal length (cm)'].mean())  # Default value set to the mean of sepal lengths\n",
    "    )\n",
    "\n",
    "    # Slider for Sepal Width\n",
    "    # Similar to the sepal length slider, but for sepal width\n",
    "    sepal_width = st.sidebar.slider(\n",
    "        'Sepal width',  # Label for the slider\n",
    "        float(df['sepal width (cm)'].min()),  # Minimum value from the dataset\n",
    "        float(df['sepal width (cm)'].max()),  # Maximum value from the dataset\n",
    "        float(df['sepal width (cm)'].mean())  # Default value set to the mean of sepal widths\n",
    "    )\n",
    "\n",
    "    # Slider for Petal Length\n",
    "    # Slider to input petal length with appropriate labels and values\n",
    "    petal_length = st.sidebar.slider(\n",
    "        'Petal length',  # Label for the slider\n",
    "        float(df['petal length (cm)'].min()),  # Minimum value from the dataset\n",
    "        float(df['petal length (cm)'].max()),  # Maximum value from the dataset\n",
    "        float(df['petal length (cm)'].mean())  # Default value set to the mean of petal lengths\n",
    "    )\n",
    "\n",
    "    # Slider for Petal Width\n",
    "    # Slider for petal width with similar structure to previous sliders\n",
    "    petal_width = st.sidebar.slider(\n",
    "        'Petal width',  # Label for the slider\n",
    "        float(df['petal width (cm)'].min()),  # Minimum value from the dataset\n",
    "        float(df['petal width (cm)'].max()),  # Maximum value from the dataset\n",
    "        float(df['petal width (cm)'].mean())  # Default value set to the mean of petal widths\n",
    "    )\n",
    "\n",
    "    data = {'sepal length (cm)': sepal_length,\n",
    "            'sepal width (cm)': sepal_width,\n",
    "            'petal length (cm)': petal_length,\n",
    "            'petal width (cm)': petal_width}\n",
    "    features = pd.DataFrame(data, index=[0])\n",
    "    return features\n",
    "\n",
    "input_df = user_input_features()\n"
   ]
  },
  {
   "cell_type": "code",
   "execution_count": 17,
   "id": "2675aca5-4194-4997-8790-b13512ac1c6f",
   "metadata": {},
   "outputs": [
    {
     "data": {
      "text/plain": [
       "DeltaGenerator()"
      ]
     },
     "execution_count": 17,
     "metadata": {},
     "output_type": "execute_result"
    }
   ],
   "source": [
    "#### Step 4: Train the Model and Make Predictions\n",
    "\n",
    "# We'll use a Random Forest Classifier to train the model and predict the class based on user inputs.\n",
    "\n",
    "# Train the model using the entire Iris dataset\n",
    "X = pd.DataFrame(iris.data, columns=iris.feature_names)  # Convert to DataFrame\n",
    "Y = iris.target\n",
    "clf = RandomForestClassifier()\n",
    "clf.fit(X, Y)\n",
    "\n",
    "# Make predictions\n",
    "prediction = clf.predict(input_df)\n",
    "prediction_proba = clf.predict_proba(input_df)\n",
    "\n",
    "st.subheader('Prediction')\n",
    "st.write(iris.target_names[prediction])\n",
    "\n",
    "st.subheader('Prediction Probability')\n",
    "st.write(prediction_proba)\n",
    "\n",
    "\n",
    "#### Step 5: Visualizing Results\n",
    "\n",
    "# You can use Streamlit's `st.line_chart()` or `st.bar_chart()` to show charts or integrate Matplotlib/Plotly for custom visualizations.\n",
    "\n",
    "\n",
    "# Visualization Example: Show the feature importance\n",
    "st.subheader('Feature Importance')\n",
    "import matplotlib.pyplot as plt\n",
    "\n",
    "importance = clf.feature_importances_\n",
    "features = iris.feature_names\n",
    "plt.barh(features, importance)\n",
    "st.pyplot(plt)\n"
   ]
  },
  {
   "cell_type": "code",
   "execution_count": null,
   "id": "bbb0c227-5511-49fd-a336-513e75e1a2dd",
   "metadata": {},
   "outputs": [],
   "source": []
  }
 ],
 "metadata": {
  "kernelspec": {
   "display_name": "Python 3 (ipykernel)",
   "language": "python",
   "name": "python3"
  },
  "language_info": {
   "codemirror_mode": {
    "name": "ipython",
    "version": 3
   },
   "file_extension": ".py",
   "mimetype": "text/x-python",
   "name": "python",
   "nbconvert_exporter": "python",
   "pygments_lexer": "ipython3",
   "version": "3.12.7"
  }
 },
 "nbformat": 4,
 "nbformat_minor": 5
}
